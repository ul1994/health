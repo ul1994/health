{
 "cells": [
  {
   "cell_type": "code",
   "execution_count": 1,
   "metadata": {},
   "outputs": [],
   "source": [
    "import sys, os"
   ]
  },
  {
   "cell_type": "code",
   "execution_count": 2,
   "metadata": {},
   "outputs": [
    {
     "data": {
      "text/plain": [
       "['benign_without_callbacks', 'benigns', 'cancers']"
      ]
     },
     "execution_count": 2,
     "metadata": {},
     "output_type": "execute_result"
    }
   ],
   "source": [
    "root = '/media/ul1994/ssd1tb/scans'\n",
    "\n",
    "def cleandir(path=''):\n",
    "    ignore = ['.DS_Store', '^']\n",
    "    return [folder for folder in os.listdir('%s/%s' % (root, path)) if folder not in ignore]\n",
    "\n",
    "groups = cleandir()\n",
    "groups"
   ]
  },
  {
   "cell_type": "code",
   "execution_count": 26,
   "metadata": {},
   "outputs": [
    {
     "name": "stdout",
     "output_type": "stream",
     "text": [
      "499 benigns benign_01 case3185: 5 6 199886t_callback_02 case3685: 20 12 9498\n",
      "\n",
      "BROKEN? benigns benign_01 case3186\n",
      "\n",
      "\n",
      "498 cancers cancer_15 case3517: 30 4 98923\n",
      "\n",
      "1910 2.84178113937\n"
     ]
    }
   ],
   "source": [
    "metadata = []\n",
    "import time\n",
    "\n",
    "devices = [\n",
    "    'DBA-MGH', # ('A' and DBA)\n",
    "    'HOWTEK-MGH', # ('A' and HOWTEK)\n",
    "    'LUMISYS-WFU', # ('B' or 'C' and LUMISYS)\n",
    "    'HOWTEK-ISMD', # ('D' and HOWTEK) \n",
    "]\n",
    "\n",
    "def process_case(ii, jj, kk, groupName, volume, case):\n",
    "    files = cleandir('%s/%s/%s' % (groupName, volume, case))\n",
    "    ics = [fl for fl in files if '.ics' in fl][0]\n",
    "    fullpath = '%s/%s/%s/%s' % (root, groupName, volume, case)\n",
    "    \n",
    "    icsdata = None\n",
    "    with open('%s/%s' % (fullpath, ics)) as fl:\n",
    "        icsdata = fl.read()\n",
    "        \n",
    "    icslines = icsdata.split('\\n')\n",
    "    icslookup = {}\n",
    "    for line in icslines:\n",
    "        parts = line.split(' ')\n",
    "        info = parts[0]\n",
    "        icslookup[info] = ' '.join(parts[1:])\n",
    "    if 'DATE_OF_STUDY' not in icslookup:\n",
    "        print '\\n\\nBROKEN? %s %s %s\\n\\n' %(groupName, volume, case)\n",
    "        return\n",
    "    \n",
    "#     if 'PATIENT_AGE' not in icslookup:\n",
    "#         print '\\n\\nBROKEN? %s %s %s\\n\\n' %(groupName, volume, case)\n",
    "    try:\n",
    "        meta = {}\n",
    "        meta['diagnosis'] = groupName\n",
    "        meta['date'] = icslookup['DATE_OF_STUDY']\n",
    "        meta['density'] = int(icslookup['DENSITY'])\n",
    "        meta['digitizer_raw'] = icslookup['DIGITIZER']\n",
    "        header = icslookup['filename'].split('-')[0]\n",
    "        digitizer = None\n",
    "        if header == 'A' and 'DBA' in icslookup['DIGITIZER']:\n",
    "            digitizer = devices[0]\n",
    "        elif header == 'A' and 'HOWTEK' in icslookup['DIGITIZER']:\n",
    "            digitizer = devices[1]\n",
    "        elif header == 'B' or header == 'C' and 'LUMISYS' in icslookup['DIGITIZER']:\n",
    "            digitizer = devices[2]\n",
    "        elif header == 'D' and 'HOWTEK' in icslookup['DIGITIZER']:\n",
    "            digitizer = devices[3]\n",
    "        assert digitizer != None\n",
    "            \n",
    "        meta['digitizer'] = digitizer\n",
    "        meta['name'] = icslookup['filename']\n",
    "        rawname = meta['name']\n",
    "        while '-' in rawname:\n",
    "            rawname = rawname.replace('-', '_')\n",
    "        if  icslookup['PATIENT_AGE'] == '':\n",
    "            meta['age'] = None\n",
    "        else:\n",
    "            meta['age'] = int(icslookup['PATIENT_AGE'])\n",
    "        meta['root'] = '%s/%s/%s/%s' % (root, groupName, volume, case)\n",
    "        \n",
    "        sequences = []\n",
    "        readingSequence = False\n",
    "        for line in icslines:\n",
    "            if line == 'SEQUENCE':\n",
    "                readingSequence = True\n",
    "            if readingSequence:\n",
    "                if line == '':\n",
    "                    break\n",
    "                else:\n",
    "                    scandata = line.split(' ')\n",
    "                    scanName = scandata[0]\n",
    "                    scanOverlay = scandata[-1]\n",
    "                    sequences.append({\n",
    "                        'name': rawname + '.' + scanName,\n",
    "                        'overlay': scanOverlay == 'OVERLAY'\n",
    "                    })\n",
    "        meta['scans'] = sequences\n",
    "\n",
    "        sys.stdout.write('%d %s %s %s: %s\\r' % (len(icsdata), groupName, volume, case, icslookup['DATE_OF_STUDY']))\n",
    "        sys.stdout.flush()\n",
    "        metadata.append(meta)\n",
    "    except:\n",
    "        print icsdata\n",
    "        \n",
    "t0 = time.time()\n",
    "counter = 0\n",
    "for ii, gname in enumerate(groups):\n",
    "    for jj, volume in enumerate(cleandir(gname)):\n",
    "        cases = cleandir('%s/%s' % (gname, volume))\n",
    "        for kk, case in enumerate(cases):\n",
    "            counter+= 1\n",
    "            process_case(ii, jj, kk, gname, volume, case)\n",
    "     \n",
    "print '\\n'\n",
    "print counter, time.time() - t0"
   ]
  },
  {
   "cell_type": "code",
   "execution_count": 27,
   "metadata": {},
   "outputs": [
    {
     "name": "stdout",
     "output_type": "stream",
     "text": [
      "1909\n"
     ]
    }
   ],
   "source": [
    "print len(metadata)"
   ]
  },
  {
   "cell_type": "code",
   "execution_count": 28,
   "metadata": {},
   "outputs": [
    {
     "name": "stdout",
     "output_type": "stream",
     "text": [
      "{'name': 'B-3159-1', 'density': 2, 'age': 58, 'digitizer_raw': 'LUMISYS LASER', 'digitizer': 'LUMISYS-WFU', 'date': '29 5 1998', 'diagnosis': 'benign_without_callbacks', 'root': '/media/ul1994/ssd1tb/scans/benign_without_callbacks/benign_without_callback_01/case3159', 'scans': [{'name': 'B_3159_1.SEQUENCE', 'overlay': False}, {'name': 'B_3159_1.LEFT_CC', 'overlay': True}, {'name': 'B_3159_1.LEFT_MLO', 'overlay': True}, {'name': 'B_3159_1.RIGHT_CC', 'overlay': False}, {'name': 'B_3159_1.RIGHT_MLO', 'overlay': False}]}\n"
     ]
    }
   ],
   "source": [
    "print metadata[0]"
   ]
  },
  {
   "cell_type": "code",
   "execution_count": 29,
   "metadata": {},
   "outputs": [],
   "source": [
    "import json\n",
    "with open('metadata.json', 'wb') as fl:\n",
    "    json.dump(metadata, fl, indent=4)"
   ]
  },
  {
   "cell_type": "code",
   "execution_count": null,
   "metadata": {},
   "outputs": [],
   "source": []
  }
 ],
 "metadata": {
  "kernelspec": {
   "display_name": "Python 2",
   "language": "python",
   "name": "python2"
  },
  "language_info": {
   "codemirror_mode": {
    "name": "ipython",
    "version": 2
   },
   "file_extension": ".py",
   "mimetype": "text/x-python",
   "name": "python",
   "nbconvert_exporter": "python",
   "pygments_lexer": "ipython2",
   "version": "2.7.12"
  }
 },
 "nbformat": 4,
 "nbformat_minor": 2
}
