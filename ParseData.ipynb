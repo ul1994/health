{
 "cells": [
  {
   "cell_type": "code",
   "execution_count": 2,
   "metadata": {},
   "outputs": [],
   "source": [
    "import sys, os\n",
    "from __future__ import print_function"
   ]
  },
  {
   "cell_type": "code",
   "execution_count": 3,
   "metadata": {},
   "outputs": [
    {
     "data": {
      "text/plain": [
       "['benigns', 'callbacks', 'cancers', 'normals']"
      ]
     },
     "execution_count": 3,
     "metadata": {},
     "output_type": "execute_result"
    }
   ],
   "source": [
    "root = '/media/ul1994/ssd1tb/scans'\n",
    "\n",
    "def cleandir(path=''):\n",
    "    ignore = ['.DS_Store', '^']\n",
    "    return [folder for folder in os.listdir('%s/%s' % (root, path)) if folder not in ignore]\n",
    "\n",
    "groups = cleandir()\n",
    "groups"
   ]
  },
  {
   "cell_type": "code",
   "execution_count": 20,
   "metadata": {},
   "outputs": [
    {
     "name": "stdout",
     "output_type": "stream",
     "text": [
      "/media/ul1994/ssd1tb/scans/benigns/benign_01/case3186\n",
      "513 normals normal_12 case2043: 7 7 199494ase3685: 20 12 9498\n",
      "\n",
      "2605 2.3415205478668213\n"
     ]
    }
   ],
   "source": [
    "metadata = []\n",
    "import time\n",
    "\n",
    "devices = [\n",
    "    'DBA-MGH', # ('A' and DBA)\n",
    "    'HOWTEK-MGH', # ('A' and HOWTEK)\n",
    "    'LUMISYS-WFU', # ('B' or 'C' and LUMISYS)\n",
    "    'HOWTEK-ISMD', # ('D' and HOWTEK) \n",
    "]\n",
    "\n",
    "def process_case(ii, jj, kk, groupName, volume, case):\n",
    "    files = cleandir('%s/%s/%s' % (groupName, volume, case))\n",
    "    ics = [fl for fl in files if '.ics' in fl][0]\n",
    "    fullpath = '%s/%s/%s/%s' % (root, groupName, volume, case)\n",
    "    \n",
    "    icsdata = None\n",
    "    try:\n",
    "        with open('%s/%s' % (fullpath, ics)) as fl:\n",
    "            icsdata = fl.read()\n",
    "    except:\n",
    "        print (fullpath)\n",
    "        return\n",
    "        \n",
    "    icslines = icsdata.split('\\n')\n",
    "    icslookup = {}\n",
    "    for line in icslines:\n",
    "        parts = line.split(' ')\n",
    "        info = parts[0]\n",
    "        icslookup[info] = ' '.join(parts[1:])\n",
    "    if 'DATE_OF_STUDY' not in icslookup:\n",
    "        print('\\n\\nBROKEN? %s %s %s\\n\\n' %(groupName, volume, case))\n",
    "        return\n",
    "    \n",
    "#     if 'PATIENT_AGE' not in icslookup:\n",
    "#         print '\\n\\nBROKEN? %s %s %s\\n\\n' %(groupName, volume, case)\n",
    "    try:\n",
    "        meta = {}\n",
    "        meta['diagnosis'] = groupName\n",
    "        meta['date'] = icslookup['DATE_OF_STUDY']\n",
    "        meta['density'] = int(icslookup['DENSITY'])\n",
    "        meta['digitizer_raw'] = icslookup['DIGITIZER']\n",
    "        header = icslookup['filename'].split('-')[0]\n",
    "        digitizer = None\n",
    "        if header == 'A' and 'DBA' in icslookup['DIGITIZER']:\n",
    "            digitizer = devices[0]\n",
    "        elif header == 'A' and 'HOWTEK' in icslookup['DIGITIZER']:\n",
    "            digitizer = devices[1]\n",
    "        elif header == 'B' or header == 'C':\n",
    "            digitizer = devices[2]\n",
    "        elif header == 'D' and 'HOWTEK' in icslookup['DIGITIZER']:\n",
    "            digitizer = devices[3]\n",
    "        assert digitizer != None\n",
    "            \n",
    "        meta['digitizer'] = digitizer\n",
    "        meta['name'] = icslookup['filename']\n",
    "        rawname = meta['name']\n",
    "        while '-' in rawname:\n",
    "            rawname = rawname.replace('-', '_')\n",
    "        if  icslookup['PATIENT_AGE'] == '':\n",
    "            meta['age'] = None\n",
    "        else:\n",
    "            meta['age'] = int(icslookup['PATIENT_AGE'])\n",
    "        meta['root'] = '%s/%s/%s/%s' % (root, groupName, volume, case)\n",
    "        \n",
    "        sequences = []\n",
    "        readingSequence = False\n",
    "        for line in icslines:\n",
    "            if 'RIGHT_' in line or 'LEFT_' in line:\n",
    "                scandata = line.split(' ')\n",
    "                scanName = scandata[0]\n",
    "                scanOverlay = scandata[-1]\n",
    "                sequences.append({\n",
    "                    'name': rawname + '.' + scanName,\n",
    "                    'overlay': scanOverlay == 'OVERLAY'\n",
    "                })\n",
    "        meta['scans'] = sequences\n",
    "        try:\n",
    "            assert len(sequences) == 4\n",
    "        except:\n",
    "            print(len(sequences), meta['root'])\n",
    "            raise Exception('Too many? %d' % len(sequences))\n",
    "\n",
    "        sys.stdout.write('%d %s %s %s: %s\\r' % (len(icsdata), groupName, volume, case, icslookup['DATE_OF_STUDY']))\n",
    "        sys.stdout.flush()\n",
    "        metadata.append(meta)\n",
    "    except:\n",
    "        print(icsdata)\n",
    "        \n",
    "t0 = time.time()\n",
    "counter = 0\n",
    "for ii, gname in enumerate(groups):\n",
    "    for jj, volume in enumerate(cleandir(gname)):\n",
    "        cases = cleandir('%s/%s' % (gname, volume))\n",
    "        for kk, case in enumerate(cases):\n",
    "            counter+= 1\n",
    "            process_case(ii, jj, kk, gname, volume, case)\n",
    "     \n",
    "print ('\\n')\n",
    "print (counter, time.time() - t0)"
   ]
  },
  {
   "cell_type": "code",
   "execution_count": 21,
   "metadata": {},
   "outputs": [
    {
     "name": "stdout",
     "output_type": "stream",
     "text": [
      "2604\n"
     ]
    }
   ],
   "source": [
    "print(len(metadata))"
   ]
  },
  {
   "cell_type": "code",
   "execution_count": 22,
   "metadata": {},
   "outputs": [
    {
     "name": "stdout",
     "output_type": "stream",
     "text": [
      "{'digitizer_raw': 'LUMISYS LASER', 'age': 66, 'root': '/media/ul1994/ssd1tb/scans/benigns/benign_01/case0029', 'scans': [{'overlay': True, 'name': 'C_0029_1.LEFT_CC'}, {'overlay': True, 'name': 'C_0029_1.LEFT_MLO'}, {'overlay': False, 'name': 'C_0029_1.RIGHT_CC'}, {'overlay': False, 'name': 'C_0029_1.RIGHT_MLO'}], 'digitizer': 'LUMISYS-WFU', 'density': 3, 'diagnosis': 'benigns', 'name': 'C-0029-1', 'date': '2 3 1993'}\n"
     ]
    }
   ],
   "source": [
    "print(metadata[0])"
   ]
  },
  {
   "cell_type": "code",
   "execution_count": 23,
   "metadata": {},
   "outputs": [],
   "source": [
    "import json\n",
    "with open('metadata.json', 'w') as fl:\n",
    "    json.dump(metadata, fl, indent=4)"
   ]
  },
  {
   "cell_type": "code",
   "execution_count": null,
   "metadata": {},
   "outputs": [],
   "source": []
  }
 ],
 "metadata": {
  "kernelspec": {
   "display_name": "Python 3",
   "language": "python",
   "name": "python3"
  },
  "language_info": {
   "codemirror_mode": {
    "name": "ipython",
    "version": 3
   },
   "file_extension": ".py",
   "mimetype": "text/x-python",
   "name": "python",
   "nbconvert_exporter": "python",
   "pygments_lexer": "ipython3",
   "version": "3.5.2"
  }
 },
 "nbformat": 4,
 "nbformat_minor": 2
}
