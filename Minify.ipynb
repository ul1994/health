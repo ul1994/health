{
 "cells": [
  {
   "cell_type": "code",
   "execution_count": 16,
   "metadata": {},
   "outputs": [],
   "source": [
    "import json, sys, os, PIL\n",
    "import matplotlib.pyplot as plt\n",
    "from ljpeg import ljpeg\n",
    "import numpy as np"
   ]
  },
  {
   "cell_type": "code",
   "execution_count": 13,
   "metadata": {},
   "outputs": [
    {
     "name": "stdout",
     "output_type": "stream",
     "text": [
      "617\n"
     ]
    }
   ],
   "source": [
    "with open('metadata-normals.json') as fl:\n",
    "    metadata = json.load(fl)\n",
    "    print len(metadata)"
   ]
  },
  {
   "cell_type": "code",
   "execution_count": null,
   "metadata": {
    "scrolled": true
   },
   "outputs": [
    {
     "name": "stdout",
     "output_type": "stream",
     "text": [
      "{u'name': u'B_3605_1.LEFT_CC', u'overlay': False}\n",
      "(4648, 3088)\n"
     ]
    }
   ],
   "source": [
    "import cv2\n",
    "\n",
    "wsize = 2000\n",
    "\n",
    "for meta in metadata[1:]:\n",
    "    for seq in meta['scans']:\n",
    "        print seq\n",
    "        scan = ljpeg.read('%s/%s.LJPEG' % (meta['root'], seq['name'])) \\\n",
    "            .astype('float')\n",
    "        scan = scan.reshape((np.max(scan.shape), np.min(scan.shape)))\n",
    "        print scan.shape\n",
    "        \n",
    "        radial = scan.copy() / 4095.0\n",
    "        vis = np.zeros((wsize, wsize, 3))\n",
    "        dx = (scan.shape[1] - wsize) / 2\n",
    "        dy = (scan.shape[0] - wsize) / 2\n",
    "        vis[:, :, 0] = radial[dy:dy+wsize, dx:dx+wsize] * 179.0\n",
    "        vis[:, :, 1] = 255.0\n",
    "        vis[:, :, 2] = radial[dy:dy+wsize, dx:dx+wsize] * 255.0\n",
    "        colorvis = cv2.cvtColor(vis.astype(np.uint8), cv2.COLOR_HSV2RGB)\n",
    "        \n",
    "        smallvis = cv2.resize(colorvis, (0,0), fx=0.5, fy=0.5)\n",
    "        \n",
    "        mini = cv2.resize(scan.copy(), (0,0), fx=0.5, fy=0.5)\n",
    "        \n",
    "        \n",
    "        plt.figure(figsize=(7, 7))\n",
    "        plt.imshow(mini, cmap='gray')\n",
    "        plt.show()\n",
    "        \n",
    "        break\n",
    "    break\n",
    "        "
   ]
  },
  {
   "cell_type": "code",
   "execution_count": null,
   "metadata": {},
   "outputs": [],
   "source": []
  }
 ],
 "metadata": {
  "kernelspec": {
   "display_name": "Python 2",
   "language": "python",
   "name": "python2"
  },
  "language_info": {
   "codemirror_mode": {
    "name": "ipython",
    "version": 2
   },
   "file_extension": ".py",
   "mimetype": "text/x-python",
   "name": "python",
   "nbconvert_exporter": "python",
   "pygments_lexer": "ipython2",
   "version": "2.7.13"
  }
 },
 "nbformat": 4,
 "nbformat_minor": 2
}
